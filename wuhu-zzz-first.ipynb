{
 "cells": [
  {
   "cell_type": "code",
   "execution_count": 1,
   "id": "875fd3ed",
   "metadata": {
    "_cell_guid": "b1076dfc-b9ad-4769-8c92-a6c4dae69d19",
    "_uuid": "8f2839f25d086af736a60e9eeb907d3b93b6e0e5",
    "execution": {
     "iopub.execute_input": "2022-12-08T08:58:05.429337Z",
     "iopub.status.busy": "2022-12-08T08:58:05.428434Z",
     "iopub.status.idle": "2022-12-08T08:58:06.714829Z",
     "shell.execute_reply": "2022-12-08T08:58:06.713585Z"
    },
    "papermill": {
     "duration": 1.303366,
     "end_time": "2022-12-08T08:58:06.718029",
     "exception": false,
     "start_time": "2022-12-08T08:58:05.414663",
     "status": "completed"
    },
    "tags": []
   },
   "outputs": [],
   "source": [
    "import numpy as np # linear algebra\n",
    "import pandas as pd # data processing, CSV file I/O (e.g. pd.read_csv)\n",
    "import os\n",
    "import seaborn as sns\n",
    "import matplotlib.pyplot as plt"
   ]
  },
  {
   "cell_type": "code",
   "execution_count": 2,
   "id": "33275405",
   "metadata": {
    "execution": {
     "iopub.execute_input": "2022-12-08T08:58:06.734924Z",
     "iopub.status.busy": "2022-12-08T08:58:06.734442Z",
     "iopub.status.idle": "2022-12-08T08:58:06.774258Z",
     "shell.execute_reply": "2022-12-08T08:58:06.772814Z"
    },
    "papermill": {
     "duration": 0.05198,
     "end_time": "2022-12-08T08:58:06.777581",
     "exception": false,
     "start_time": "2022-12-08T08:58:06.725601",
     "status": "completed"
    },
    "tags": []
   },
   "outputs": [],
   "source": [
    "train_data = pd.read_csv(\"/kaggle/input/titanic/train.csv\")\n",
    "test_data = pd.read_csv(\"/kaggle/input/titanic/test.csv\")\n",
    "sns.set_style('whitegrid')"
   ]
  },
  {
   "cell_type": "code",
   "execution_count": 3,
   "id": "2f2a0589",
   "metadata": {
    "execution": {
     "iopub.execute_input": "2022-12-08T08:58:06.804245Z",
     "iopub.status.busy": "2022-12-08T08:58:06.803286Z",
     "iopub.status.idle": "2022-12-08T08:58:06.819177Z",
     "shell.execute_reply": "2022-12-08T08:58:06.817707Z"
    },
    "papermill": {
     "duration": 0.034501,
     "end_time": "2022-12-08T08:58:06.822559",
     "exception": false,
     "start_time": "2022-12-08T08:58:06.788058",
     "status": "completed"
    },
    "tags": []
   },
   "outputs": [],
   "source": [
    "test_data['Survived'] = 0"
   ]
  },
  {
   "cell_type": "code",
   "execution_count": 4,
   "id": "344b5189",
   "metadata": {
    "execution": {
     "iopub.execute_input": "2022-12-08T08:58:06.840810Z",
     "iopub.status.busy": "2022-12-08T08:58:06.839744Z",
     "iopub.status.idle": "2022-12-08T08:58:06.857736Z",
     "shell.execute_reply": "2022-12-08T08:58:06.856498Z"
    },
    "papermill": {
     "duration": 0.030092,
     "end_time": "2022-12-08T08:58:06.860934",
     "exception": false,
     "start_time": "2022-12-08T08:58:06.830842",
     "status": "completed"
    },
    "tags": []
   },
   "outputs": [],
   "source": [
    "combined_train_test = train_data.append(test_data)\n",
    "PId = test_data['PassengerId']"
   ]
  },
  {
   "cell_type": "code",
   "execution_count": 5,
   "id": "3eb89e7c",
   "metadata": {
    "execution": {
     "iopub.execute_input": "2022-12-08T08:58:06.878124Z",
     "iopub.status.busy": "2022-12-08T08:58:06.876622Z",
     "iopub.status.idle": "2022-12-08T08:58:06.901341Z",
     "shell.execute_reply": "2022-12-08T08:58:06.899579Z"
    },
    "papermill": {
     "duration": 0.036822,
     "end_time": "2022-12-08T08:58:06.904735",
     "exception": false,
     "start_time": "2022-12-08T08:58:06.867913",
     "status": "completed"
    },
    "tags": []
   },
   "outputs": [
    {
     "name": "stdout",
     "output_type": "stream",
     "text": [
      "<class 'pandas.core.frame.DataFrame'>\n",
      "Int64Index: 1309 entries, 0 to 417\n",
      "Data columns (total 12 columns):\n",
      " #   Column       Non-Null Count  Dtype  \n",
      "---  ------       --------------  -----  \n",
      " 0   PassengerId  1309 non-null   int64  \n",
      " 1   Survived     1309 non-null   int64  \n",
      " 2   Pclass       1309 non-null   int64  \n",
      " 3   Name         1309 non-null   object \n",
      " 4   Sex          1309 non-null   object \n",
      " 5   Age          1046 non-null   float64\n",
      " 6   SibSp        1309 non-null   int64  \n",
      " 7   Parch        1309 non-null   int64  \n",
      " 8   Ticket       1309 non-null   object \n",
      " 9   Fare         1308 non-null   float64\n",
      " 10  Cabin        295 non-null    object \n",
      " 11  Embarked     1307 non-null   object \n",
      "dtypes: float64(2), int64(5), object(5)\n",
      "memory usage: 132.9+ KB\n"
     ]
    }
   ],
   "source": [
    "combined_train_test.info()"
   ]
  },
  {
   "cell_type": "code",
   "execution_count": 6,
   "id": "3415a0bb",
   "metadata": {
    "execution": {
     "iopub.execute_input": "2022-12-08T08:58:06.922292Z",
     "iopub.status.busy": "2022-12-08T08:58:06.921181Z",
     "iopub.status.idle": "2022-12-08T08:58:06.932543Z",
     "shell.execute_reply": "2022-12-08T08:58:06.931497Z"
    },
    "papermill": {
     "duration": 0.022724,
     "end_time": "2022-12-08T08:58:06.934889",
     "exception": false,
     "start_time": "2022-12-08T08:58:06.912165",
     "status": "completed"
    },
    "tags": []
   },
   "outputs": [],
   "source": [
    "#通过众数填补Embarked的缺失值\n",
    "combined_train_test['Embarked'].fillna(combined_train_test['Embarked'].mode().iloc[0], inplace=True)\n",
    "#通过中位数填补年龄，fare的缺失值\n",
    "combined_train_test[\"Age\"] = combined_train_test[\"Age\"].fillna(combined_train_test[\"Age\"].median())\n",
    "combined_train_test[\"Fare\"] = combined_train_test[\"Fare\"].fillna(combined_train_test[\"Fare\"].median())"
   ]
  },
  {
   "cell_type": "code",
   "execution_count": 7,
   "id": "de065692",
   "metadata": {
    "execution": {
     "iopub.execute_input": "2022-12-08T08:58:06.952023Z",
     "iopub.status.busy": "2022-12-08T08:58:06.950855Z",
     "iopub.status.idle": "2022-12-08T08:58:06.964828Z",
     "shell.execute_reply": "2022-12-08T08:58:06.963459Z"
    },
    "papermill": {
     "duration": 0.025692,
     "end_time": "2022-12-08T08:58:06.967800",
     "exception": false,
     "start_time": "2022-12-08T08:58:06.942108",
     "status": "completed"
    },
    "tags": []
   },
   "outputs": [],
   "source": [
    "#删除影响较小的特征\n",
    "combined_train_test.drop(['PassengerId'], axis=1,inplace=True)\n",
    "combined_train_test.drop(['Name'], axis=1,inplace=True)\n",
    "combined_train_test.drop(['Cabin'], axis=1,inplace=True)\n",
    "combined_train_test.drop(['Ticket'], axis=1,inplace=True)"
   ]
  },
  {
   "cell_type": "code",
   "execution_count": 8,
   "id": "84fbf828",
   "metadata": {
    "execution": {
     "iopub.execute_input": "2022-12-08T08:58:06.985981Z",
     "iopub.status.busy": "2022-12-08T08:58:06.985532Z",
     "iopub.status.idle": "2022-12-08T08:58:07.000988Z",
     "shell.execute_reply": "2022-12-08T08:58:06.998831Z"
    },
    "papermill": {
     "duration": 0.02755,
     "end_time": "2022-12-08T08:58:07.004310",
     "exception": false,
     "start_time": "2022-12-08T08:58:06.976760",
     "status": "completed"
    },
    "tags": []
   },
   "outputs": [
    {
     "name": "stdout",
     "output_type": "stream",
     "text": [
      "<class 'pandas.core.frame.DataFrame'>\n",
      "Int64Index: 1309 entries, 0 to 417\n",
      "Data columns (total 8 columns):\n",
      " #   Column    Non-Null Count  Dtype  \n",
      "---  ------    --------------  -----  \n",
      " 0   Survived  1309 non-null   int64  \n",
      " 1   Pclass    1309 non-null   int64  \n",
      " 2   Sex       1309 non-null   object \n",
      " 3   Age       1309 non-null   float64\n",
      " 4   SibSp     1309 non-null   int64  \n",
      " 5   Parch     1309 non-null   int64  \n",
      " 6   Fare      1309 non-null   float64\n",
      " 7   Embarked  1309 non-null   object \n",
      "dtypes: float64(2), int64(4), object(2)\n",
      "memory usage: 92.0+ KB\n"
     ]
    }
   ],
   "source": [
    "combined_train_test.info()"
   ]
  },
  {
   "cell_type": "code",
   "execution_count": 9,
   "id": "e9511ebb",
   "metadata": {
    "execution": {
     "iopub.execute_input": "2022-12-08T08:58:07.021462Z",
     "iopub.status.busy": "2022-12-08T08:58:07.020674Z",
     "iopub.status.idle": "2022-12-08T08:58:07.036369Z",
     "shell.execute_reply": "2022-12-08T08:58:07.035254Z"
    },
    "papermill": {
     "duration": 0.027498,
     "end_time": "2022-12-08T08:58:07.039195",
     "exception": false,
     "start_time": "2022-12-08T08:58:07.011697",
     "status": "completed"
    },
    "tags": []
   },
   "outputs": [],
   "source": [
    "# 为了后面的特征分析，这里我们将 Embarked 特征进行facrorizing\n",
    "combined_train_test['Embarked'] = pd.factorize(combined_train_test['Embarked'])[0]\n",
    "\n",
    "# 使用 pd.get_dummies 获取one-hot 编码\n",
    "emb_dummies_df = pd.get_dummies(combined_train_test['Embarked'], prefix=combined_train_test[['Embarked']].columns[0])\n",
    "combined_train_test = pd.concat([combined_train_test, emb_dummies_df], axis=1)\n",
    "\n",
    "combined_train_test['Sex'] = pd.factorize(combined_train_test['Sex'])[0]\n",
    "\n",
    "# 使用 pd.get_dummies 获取one-hot 编码\n",
    "emb_dummies_df = pd.get_dummies(combined_train_test['Sex'], prefix=combined_train_test[['Sex']].columns[0])\n",
    "combined_train_test = pd.concat([combined_train_test, emb_dummies_df], axis=1)\n"
   ]
  },
  {
   "cell_type": "code",
   "execution_count": 10,
   "id": "7893fc72",
   "metadata": {
    "execution": {
     "iopub.execute_input": "2022-12-08T08:58:07.055705Z",
     "iopub.status.busy": "2022-12-08T08:58:07.054904Z",
     "iopub.status.idle": "2022-12-08T08:58:07.072343Z",
     "shell.execute_reply": "2022-12-08T08:58:07.070598Z"
    },
    "papermill": {
     "duration": 0.029709,
     "end_time": "2022-12-08T08:58:07.075932",
     "exception": false,
     "start_time": "2022-12-08T08:58:07.046223",
     "status": "completed"
    },
    "tags": []
   },
   "outputs": [
    {
     "name": "stdout",
     "output_type": "stream",
     "text": [
      "<class 'pandas.core.frame.DataFrame'>\n",
      "Int64Index: 1309 entries, 0 to 417\n",
      "Data columns (total 13 columns):\n",
      " #   Column      Non-Null Count  Dtype  \n",
      "---  ------      --------------  -----  \n",
      " 0   Survived    1309 non-null   int64  \n",
      " 1   Pclass      1309 non-null   int64  \n",
      " 2   Sex         1309 non-null   int64  \n",
      " 3   Age         1309 non-null   float64\n",
      " 4   SibSp       1309 non-null   int64  \n",
      " 5   Parch       1309 non-null   int64  \n",
      " 6   Fare        1309 non-null   float64\n",
      " 7   Embarked    1309 non-null   int64  \n",
      " 8   Embarked_0  1309 non-null   uint8  \n",
      " 9   Embarked_1  1309 non-null   uint8  \n",
      " 10  Embarked_2  1309 non-null   uint8  \n",
      " 11  Sex_0       1309 non-null   uint8  \n",
      " 12  Sex_1       1309 non-null   uint8  \n",
      "dtypes: float64(2), int64(6), uint8(5)\n",
      "memory usage: 98.4 KB\n"
     ]
    }
   ],
   "source": [
    "combined_train_test.info()"
   ]
  },
  {
   "cell_type": "code",
   "execution_count": 11,
   "id": "c6ead3bc",
   "metadata": {
    "execution": {
     "iopub.execute_input": "2022-12-08T08:58:07.093013Z",
     "iopub.status.busy": "2022-12-08T08:58:07.092550Z",
     "iopub.status.idle": "2022-12-08T08:58:07.127978Z",
     "shell.execute_reply": "2022-12-08T08:58:07.126683Z"
    },
    "papermill": {
     "duration": 0.047519,
     "end_time": "2022-12-08T08:58:07.131167",
     "exception": false,
     "start_time": "2022-12-08T08:58:07.083648",
     "status": "completed"
    },
    "tags": []
   },
   "outputs": [
    {
     "data": {
      "text/html": [
       "<div>\n",
       "<style scoped>\n",
       "    .dataframe tbody tr th:only-of-type {\n",
       "        vertical-align: middle;\n",
       "    }\n",
       "\n",
       "    .dataframe tbody tr th {\n",
       "        vertical-align: top;\n",
       "    }\n",
       "\n",
       "    .dataframe thead th {\n",
       "        text-align: right;\n",
       "    }\n",
       "</style>\n",
       "<table border=\"1\" class=\"dataframe\">\n",
       "  <thead>\n",
       "    <tr style=\"text-align: right;\">\n",
       "      <th></th>\n",
       "      <th>Survived</th>\n",
       "      <th>Pclass</th>\n",
       "      <th>Sex</th>\n",
       "      <th>Age</th>\n",
       "      <th>SibSp</th>\n",
       "      <th>Parch</th>\n",
       "      <th>Fare</th>\n",
       "      <th>Embarked</th>\n",
       "      <th>Embarked_0</th>\n",
       "      <th>Embarked_1</th>\n",
       "      <th>Embarked_2</th>\n",
       "      <th>Sex_0</th>\n",
       "      <th>Sex_1</th>\n",
       "    </tr>\n",
       "  </thead>\n",
       "  <tbody>\n",
       "    <tr>\n",
       "      <th>Survived</th>\n",
       "      <td>1.000000</td>\n",
       "      <td>-0.244686</td>\n",
       "      <td>0.404020</td>\n",
       "      <td>-0.055862</td>\n",
       "      <td>-0.014375</td>\n",
       "      <td>0.054908</td>\n",
       "      <td>0.173786</td>\n",
       "      <td>0.048409</td>\n",
       "      <td>-0.077095</td>\n",
       "      <td>0.096513</td>\n",
       "      <td>-0.012730</td>\n",
       "      <td>-0.404020</td>\n",
       "      <td>0.404020</td>\n",
       "    </tr>\n",
       "    <tr>\n",
       "      <th>Pclass</th>\n",
       "      <td>-0.244686</td>\n",
       "      <td>1.000000</td>\n",
       "      <td>-0.124617</td>\n",
       "      <td>-0.377908</td>\n",
       "      <td>0.060832</td>\n",
       "      <td>0.018322</td>\n",
       "      <td>-0.558683</td>\n",
       "      <td>0.038875</td>\n",
       "      <td>0.091320</td>\n",
       "      <td>-0.269658</td>\n",
       "      <td>0.230491</td>\n",
       "      <td>0.124617</td>\n",
       "      <td>-0.124617</td>\n",
       "    </tr>\n",
       "    <tr>\n",
       "      <th>Sex</th>\n",
       "      <td>0.404020</td>\n",
       "      <td>-0.124617</td>\n",
       "      <td>1.000000</td>\n",
       "      <td>-0.053663</td>\n",
       "      <td>0.109609</td>\n",
       "      <td>0.213125</td>\n",
       "      <td>0.185681</td>\n",
       "      <td>0.120423</td>\n",
       "      <td>-0.115193</td>\n",
       "      <td>0.066564</td>\n",
       "      <td>0.088651</td>\n",
       "      <td>-1.000000</td>\n",
       "      <td>1.000000</td>\n",
       "    </tr>\n",
       "    <tr>\n",
       "      <th>Age</th>\n",
       "      <td>-0.055862</td>\n",
       "      <td>-0.377908</td>\n",
       "      <td>-0.053663</td>\n",
       "      <td>1.000000</td>\n",
       "      <td>-0.189972</td>\n",
       "      <td>-0.125851</td>\n",
       "      <td>0.178182</td>\n",
       "      <td>0.018654</td>\n",
       "      <td>-0.046404</td>\n",
       "      <td>0.075016</td>\n",
       "      <td>-0.031132</td>\n",
       "      <td>0.053663</td>\n",
       "      <td>-0.053663</td>\n",
       "    </tr>\n",
       "    <tr>\n",
       "      <th>SibSp</th>\n",
       "      <td>-0.014375</td>\n",
       "      <td>0.060832</td>\n",
       "      <td>0.109609</td>\n",
       "      <td>-0.189972</td>\n",
       "      <td>1.000000</td>\n",
       "      <td>0.373587</td>\n",
       "      <td>0.160349</td>\n",
       "      <td>-0.073461</td>\n",
       "      <td>0.073709</td>\n",
       "      <td>-0.048396</td>\n",
       "      <td>-0.048678</td>\n",
       "      <td>-0.109609</td>\n",
       "      <td>0.109609</td>\n",
       "    </tr>\n",
       "    <tr>\n",
       "      <th>Parch</th>\n",
       "      <td>0.054908</td>\n",
       "      <td>0.018322</td>\n",
       "      <td>0.213125</td>\n",
       "      <td>-0.125851</td>\n",
       "      <td>0.373587</td>\n",
       "      <td>1.000000</td>\n",
       "      <td>0.221635</td>\n",
       "      <td>-0.095523</td>\n",
       "      <td>0.071881</td>\n",
       "      <td>-0.008635</td>\n",
       "      <td>-0.100943</td>\n",
       "      <td>-0.213125</td>\n",
       "      <td>0.213125</td>\n",
       "    </tr>\n",
       "    <tr>\n",
       "      <th>Fare</th>\n",
       "      <td>0.173786</td>\n",
       "      <td>-0.558683</td>\n",
       "      <td>0.185681</td>\n",
       "      <td>0.178182</td>\n",
       "      <td>0.160349</td>\n",
       "      <td>0.221635</td>\n",
       "      <td>1.000000</td>\n",
       "      <td>0.061283</td>\n",
       "      <td>-0.170068</td>\n",
       "      <td>0.286368</td>\n",
       "      <td>-0.129958</td>\n",
       "      <td>-0.185681</td>\n",
       "      <td>0.185681</td>\n",
       "    </tr>\n",
       "    <tr>\n",
       "      <th>Embarked</th>\n",
       "      <td>0.048409</td>\n",
       "      <td>0.038875</td>\n",
       "      <td>0.120423</td>\n",
       "      <td>0.018654</td>\n",
       "      <td>-0.073461</td>\n",
       "      <td>-0.095523</td>\n",
       "      <td>0.061283</td>\n",
       "      <td>1.000000</td>\n",
       "      <td>-0.921261</td>\n",
       "      <td>0.472747</td>\n",
       "      <td>0.791634</td>\n",
       "      <td>-0.120423</td>\n",
       "      <td>0.120423</td>\n",
       "    </tr>\n",
       "    <tr>\n",
       "      <th>Embarked_0</th>\n",
       "      <td>-0.077095</td>\n",
       "      <td>0.091320</td>\n",
       "      <td>-0.115193</td>\n",
       "      <td>-0.046404</td>\n",
       "      <td>0.073709</td>\n",
       "      <td>0.071881</td>\n",
       "      <td>-0.170068</td>\n",
       "      <td>-0.921261</td>\n",
       "      <td>1.000000</td>\n",
       "      <td>-0.778262</td>\n",
       "      <td>-0.491656</td>\n",
       "      <td>0.115193</td>\n",
       "      <td>-0.115193</td>\n",
       "    </tr>\n",
       "    <tr>\n",
       "      <th>Embarked_1</th>\n",
       "      <td>0.096513</td>\n",
       "      <td>-0.269658</td>\n",
       "      <td>0.066564</td>\n",
       "      <td>0.075016</td>\n",
       "      <td>-0.048396</td>\n",
       "      <td>-0.008635</td>\n",
       "      <td>0.286368</td>\n",
       "      <td>0.472747</td>\n",
       "      <td>-0.778262</td>\n",
       "      <td>1.000000</td>\n",
       "      <td>-0.164166</td>\n",
       "      <td>-0.066564</td>\n",
       "      <td>0.066564</td>\n",
       "    </tr>\n",
       "    <tr>\n",
       "      <th>Embarked_2</th>\n",
       "      <td>-0.012730</td>\n",
       "      <td>0.230491</td>\n",
       "      <td>0.088651</td>\n",
       "      <td>-0.031132</td>\n",
       "      <td>-0.048678</td>\n",
       "      <td>-0.100943</td>\n",
       "      <td>-0.129958</td>\n",
       "      <td>0.791634</td>\n",
       "      <td>-0.491656</td>\n",
       "      <td>-0.164166</td>\n",
       "      <td>1.000000</td>\n",
       "      <td>-0.088651</td>\n",
       "      <td>0.088651</td>\n",
       "    </tr>\n",
       "    <tr>\n",
       "      <th>Sex_0</th>\n",
       "      <td>-0.404020</td>\n",
       "      <td>0.124617</td>\n",
       "      <td>-1.000000</td>\n",
       "      <td>0.053663</td>\n",
       "      <td>-0.109609</td>\n",
       "      <td>-0.213125</td>\n",
       "      <td>-0.185681</td>\n",
       "      <td>-0.120423</td>\n",
       "      <td>0.115193</td>\n",
       "      <td>-0.066564</td>\n",
       "      <td>-0.088651</td>\n",
       "      <td>1.000000</td>\n",
       "      <td>-1.000000</td>\n",
       "    </tr>\n",
       "    <tr>\n",
       "      <th>Sex_1</th>\n",
       "      <td>0.404020</td>\n",
       "      <td>-0.124617</td>\n",
       "      <td>1.000000</td>\n",
       "      <td>-0.053663</td>\n",
       "      <td>0.109609</td>\n",
       "      <td>0.213125</td>\n",
       "      <td>0.185681</td>\n",
       "      <td>0.120423</td>\n",
       "      <td>-0.115193</td>\n",
       "      <td>0.066564</td>\n",
       "      <td>0.088651</td>\n",
       "      <td>-1.000000</td>\n",
       "      <td>1.000000</td>\n",
       "    </tr>\n",
       "  </tbody>\n",
       "</table>\n",
       "</div>"
      ],
      "text/plain": [
       "            Survived    Pclass       Sex       Age     SibSp     Parch  \\\n",
       "Survived    1.000000 -0.244686  0.404020 -0.055862 -0.014375  0.054908   \n",
       "Pclass     -0.244686  1.000000 -0.124617 -0.377908  0.060832  0.018322   \n",
       "Sex         0.404020 -0.124617  1.000000 -0.053663  0.109609  0.213125   \n",
       "Age        -0.055862 -0.377908 -0.053663  1.000000 -0.189972 -0.125851   \n",
       "SibSp      -0.014375  0.060832  0.109609 -0.189972  1.000000  0.373587   \n",
       "Parch       0.054908  0.018322  0.213125 -0.125851  0.373587  1.000000   \n",
       "Fare        0.173786 -0.558683  0.185681  0.178182  0.160349  0.221635   \n",
       "Embarked    0.048409  0.038875  0.120423  0.018654 -0.073461 -0.095523   \n",
       "Embarked_0 -0.077095  0.091320 -0.115193 -0.046404  0.073709  0.071881   \n",
       "Embarked_1  0.096513 -0.269658  0.066564  0.075016 -0.048396 -0.008635   \n",
       "Embarked_2 -0.012730  0.230491  0.088651 -0.031132 -0.048678 -0.100943   \n",
       "Sex_0      -0.404020  0.124617 -1.000000  0.053663 -0.109609 -0.213125   \n",
       "Sex_1       0.404020 -0.124617  1.000000 -0.053663  0.109609  0.213125   \n",
       "\n",
       "                Fare  Embarked  Embarked_0  Embarked_1  Embarked_2     Sex_0  \\\n",
       "Survived    0.173786  0.048409   -0.077095    0.096513   -0.012730 -0.404020   \n",
       "Pclass     -0.558683  0.038875    0.091320   -0.269658    0.230491  0.124617   \n",
       "Sex         0.185681  0.120423   -0.115193    0.066564    0.088651 -1.000000   \n",
       "Age         0.178182  0.018654   -0.046404    0.075016   -0.031132  0.053663   \n",
       "SibSp       0.160349 -0.073461    0.073709   -0.048396   -0.048678 -0.109609   \n",
       "Parch       0.221635 -0.095523    0.071881   -0.008635   -0.100943 -0.213125   \n",
       "Fare        1.000000  0.061283   -0.170068    0.286368   -0.129958 -0.185681   \n",
       "Embarked    0.061283  1.000000   -0.921261    0.472747    0.791634 -0.120423   \n",
       "Embarked_0 -0.170068 -0.921261    1.000000   -0.778262   -0.491656  0.115193   \n",
       "Embarked_1  0.286368  0.472747   -0.778262    1.000000   -0.164166 -0.066564   \n",
       "Embarked_2 -0.129958  0.791634   -0.491656   -0.164166    1.000000 -0.088651   \n",
       "Sex_0      -0.185681 -0.120423    0.115193   -0.066564   -0.088651  1.000000   \n",
       "Sex_1       0.185681  0.120423   -0.115193    0.066564    0.088651 -1.000000   \n",
       "\n",
       "               Sex_1  \n",
       "Survived    0.404020  \n",
       "Pclass     -0.124617  \n",
       "Sex         1.000000  \n",
       "Age        -0.053663  \n",
       "SibSp       0.109609  \n",
       "Parch       0.213125  \n",
       "Fare        0.185681  \n",
       "Embarked    0.120423  \n",
       "Embarked_0 -0.115193  \n",
       "Embarked_1  0.066564  \n",
       "Embarked_2  0.088651  \n",
       "Sex_0      -1.000000  \n",
       "Sex_1       1.000000  "
      ]
     },
     "execution_count": 11,
     "metadata": {},
     "output_type": "execute_result"
    }
   ],
   "source": [
    "combined_train_test_corr = combined_train_test.corr()\n",
    "combined_train_test_corr"
   ]
  },
  {
   "cell_type": "code",
   "execution_count": 12,
   "id": "39e93d54",
   "metadata": {
    "execution": {
     "iopub.execute_input": "2022-12-08T08:58:07.149210Z",
     "iopub.status.busy": "2022-12-08T08:58:07.148756Z",
     "iopub.status.idle": "2022-12-08T08:58:08.434509Z",
     "shell.execute_reply": "2022-12-08T08:58:08.433341Z"
    },
    "papermill": {
     "duration": 1.299408,
     "end_time": "2022-12-08T08:58:08.438430",
     "exception": false,
     "start_time": "2022-12-08T08:58:07.139022",
     "status": "completed"
    },
    "tags": []
   },
   "outputs": [
    {
     "data": {
      "image/png": "[encoded data removed]",
      "text/plain": [
       "<Figure size 1080x648 with 2 Axes>"
      ]
     },
     "metadata": {},
     "output_type": "display_data"
    }
   ],
   "source": [
    "# 画出相关性热力图\n",
    "a = plt.subplots(figsize=(15,9))#调整画布大小\n",
    "a = sns.heatmap(combined_train_test_corr, vmin=-1, vmax=1 , annot=True , square=True)#画热力图"
   ]
  },
  {
   "cell_type": "code",
   "execution_count": 13,
   "id": "0306631c",
   "metadata": {
    "execution": {
     "iopub.execute_input": "2022-12-08T08:58:08.460476Z",
     "iopub.status.busy": "2022-12-08T08:58:08.459917Z",
     "iopub.status.idle": "2022-12-08T08:58:08.470037Z",
     "shell.execute_reply": "2022-12-08T08:58:08.468941Z"
    },
    "papermill": {
     "duration": 0.023763,
     "end_time": "2022-12-08T08:58:08.472349",
     "exception": false,
     "start_time": "2022-12-08T08:58:08.448586",
     "status": "completed"
    },
    "tags": []
   },
   "outputs": [],
   "source": [
    "train_data = combined_train_test[:891]\n",
    "test_data = combined_train_test[891:]\n",
    "\n",
    "titanic_train_data_X = train_data.drop(['Survived'],axis=1)\n",
    "titanic_train_data_Y = train_data['Survived']\n",
    "titanic_test_data_X = test_data.drop(['Survived'],axis=1)"
   ]
  },
  {
   "cell_type": "code",
   "execution_count": 14,
   "id": "c6ac3cf7",
   "metadata": {
    "execution": {
     "iopub.execute_input": "2022-12-08T08:58:08.493999Z",
     "iopub.status.busy": "2022-12-08T08:58:08.493512Z",
     "iopub.status.idle": "2022-12-08T08:58:08.510357Z",
     "shell.execute_reply": "2022-12-08T08:58:08.508689Z"
    },
    "papermill": {
     "duration": 0.031058,
     "end_time": "2022-12-08T08:58:08.513168",
     "exception": false,
     "start_time": "2022-12-08T08:58:08.482110",
     "status": "completed"
    },
    "tags": []
   },
   "outputs": [
    {
     "name": "stdout",
     "output_type": "stream",
     "text": [
      "<class 'pandas.core.frame.DataFrame'>\n",
      "Int64Index: 891 entries, 0 to 890\n",
      "Data columns (total 12 columns):\n",
      " #   Column      Non-Null Count  Dtype  \n",
      "---  ------      --------------  -----  \n",
      " 0   Pclass      891 non-null    int64  \n",
      " 1   Sex         891 non-null    int64  \n",
      " 2   Age         891 non-null    float64\n",
      " 3   SibSp       891 non-null    int64  \n",
      " 4   Parch       891 non-null    int64  \n",
      " 5   Fare        891 non-null    float64\n",
      " 6   Embarked    891 non-null    int64  \n",
      " 7   Embarked_0  891 non-null    uint8  \n",
      " 8   Embarked_1  891 non-null    uint8  \n",
      " 9   Embarked_2  891 non-null    uint8  \n",
      " 10  Sex_0       891 non-null    uint8  \n",
      " 11  Sex_1       891 non-null    uint8  \n",
      "dtypes: float64(2), int64(5), uint8(5)\n",
      "memory usage: 60.0 KB\n"
     ]
    }
   ],
   "source": [
    "titanic_train_data_X.info()"
   ]
  },
  {
   "cell_type": "code",
   "execution_count": 15,
   "id": "f1be08ea",
   "metadata": {
    "execution": {
     "iopub.execute_input": "2022-12-08T08:58:08.535591Z",
     "iopub.status.busy": "2022-12-08T08:58:08.534231Z",
     "iopub.status.idle": "2022-12-08T08:58:08.541218Z",
     "shell.execute_reply": "2022-12-08T08:58:08.539566Z"
    },
    "papermill": {
     "duration": 0.021139,
     "end_time": "2022-12-08T08:58:08.544011",
     "exception": false,
     "start_time": "2022-12-08T08:58:08.522872",
     "status": "completed"
    },
    "tags": []
   },
   "outputs": [],
   "source": [
    "features = [\"Pclass\", \"Age\", \"SibSp\",\"Parch\",\"Fare\",\"Embarked_0\",\"Embarked_1\",\"Embarked_2\", \"Sex_0\", \"Sex_1\"]"
   ]
  },
  {
   "cell_type": "code",
   "execution_count": 16,
   "id": "602a621d",
   "metadata": {
    "execution": {
     "iopub.execute_input": "2022-12-08T08:58:08.566559Z",
     "iopub.status.busy": "2022-12-08T08:58:08.566049Z",
     "iopub.status.idle": "2022-12-08T08:58:09.248514Z",
     "shell.execute_reply": "2022-12-08T08:58:09.246742Z"
    },
    "papermill": {
     "duration": 0.698068,
     "end_time": "2022-12-08T08:58:09.251848",
     "exception": false,
     "start_time": "2022-12-08T08:58:08.553780",
     "status": "completed"
    },
    "tags": []
   },
   "outputs": [
    {
     "name": "stdout",
     "output_type": "stream",
     "text": [
      "Your submission was successfully saved!\n"
     ]
    }
   ],
   "source": [
    "from sklearn.ensemble import RandomForestClassifier\n",
    "train_data_X = pd.get_dummies(train_data[features])\n",
    "test_data_X = pd.get_dummies(test_data[features])\n",
    "train_data_Y = train_data['Survived']\n",
    "\n",
    "model = RandomForestClassifier(n_estimators=100, max_depth=5, random_state=1)\n",
    "model.fit(train_data_X, train_data_Y)\n",
    "predictions = model.predict(test_data_X)\n",
    "output = pd.DataFrame({'PassengerId': PId, 'Survived': predictions})\n",
    "output.to_csv('submission.csv', index=False)\n",
    "print(\"Your submission was successfully saved!\")"
   ]
  },
  {
   "cell_type": "code",
   "execution_count": 17,
   "id": "1ade9374",
   "metadata": {
    "execution": {
     "iopub.execute_input": "2022-12-08T08:58:09.273942Z",
     "iopub.status.busy": "2022-12-08T08:58:09.273506Z",
     "iopub.status.idle": "2022-12-08T08:58:09.279180Z",
     "shell.execute_reply": "2022-12-08T08:58:09.277737Z"
    },
    "papermill": {
     "duration": 0.019981,
     "end_time": "2022-12-08T08:58:09.281846",
     "exception": false,
     "start_time": "2022-12-08T08:58:09.261865",
     "status": "completed"
    },
    "tags": []
   },
   "outputs": [],
   "source": [
    "# from sklearn.ensemble import RandomForestClassifier\n",
    "\n",
    "# y = train_data[\"Survived\"]\n",
    "\n",
    "# features = [\"Pclass\", \"Sex\", \"SibSp\", \"Parch\"]\n",
    "# X = pd.get_dummies(train_data[features])\n",
    "# X_test = pd.get_dummies(test_data[features])\n",
    "\n",
    "# model = RandomForestClassifier(n_estimators=100, max_depth=5, random_state=1)\n",
    "# model.fit(X, y)\n",
    "# predictions = model.predict(X_test)\n",
    "\n",
    "# output = pd.DataFrame({'PassengerId': test_data.PassengerId, 'Survived': predictions})\n",
    "# output.to_csv('submission.csv', index=False)\n",
    "# print(\"Your submission was successfully saved!\")"
   ]
  },
  {
   "cell_type": "code",
   "execution_count": 18,
   "id": "784368dc",
   "metadata": {
    "execution": {
     "iopub.execute_input": "2022-12-08T08:58:09.303685Z",
     "iopub.status.busy": "2022-12-08T08:58:09.303128Z",
     "iopub.status.idle": "2022-12-08T08:58:09.308711Z",
     "shell.execute_reply": "2022-12-08T08:58:09.307200Z"
    },
    "papermill": {
     "duration": 0.019872,
     "end_time": "2022-12-08T08:58:09.311419",
     "exception": false,
     "start_time": "2022-12-08T08:58:09.291547",
     "status": "completed"
    },
    "tags": []
   },
   "outputs": [],
   "source": [
    "#train_data.head()"
   ]
  },
  {
   "cell_type": "code",
   "execution_count": 19,
   "id": "177305c6",
   "metadata": {
    "execution": {
     "iopub.execute_input": "2022-12-08T08:58:09.333485Z",
     "iopub.status.busy": "2022-12-08T08:58:09.333000Z",
     "iopub.status.idle": "2022-12-08T08:58:09.338095Z",
     "shell.execute_reply": "2022-12-08T08:58:09.336795Z"
    },
    "papermill": {
     "duration": 0.019475,
     "end_time": "2022-12-08T08:58:09.340687",
     "exception": false,
     "start_time": "2022-12-08T08:58:09.321212",
     "status": "completed"
    },
    "tags": []
   },
   "outputs": [],
   "source": [
    "#train_data.info()"
   ]
  },
  {
   "cell_type": "code",
   "execution_count": 20,
   "id": "6367eb45",
   "metadata": {
    "execution": {
     "iopub.execute_input": "2022-12-08T08:58:09.362235Z",
     "iopub.status.busy": "2022-12-08T08:58:09.361769Z",
     "iopub.status.idle": "2022-12-08T08:58:09.367241Z",
     "shell.execute_reply": "2022-12-08T08:58:09.365832Z"
    },
    "papermill": {
     "duration": 0.019412,
     "end_time": "2022-12-08T08:58:09.369704",
     "exception": false,
     "start_time": "2022-12-08T08:58:09.350292",
     "status": "completed"
    },
    "tags": []
   },
   "outputs": [],
   "source": [
    "#test_data.info()"
   ]
  },
  {
   "cell_type": "code",
   "execution_count": 21,
   "id": "a244ef04",
   "metadata": {
    "execution": {
     "iopub.execute_input": "2022-12-08T08:58:09.391425Z",
     "iopub.status.busy": "2022-12-08T08:58:09.390952Z",
     "iopub.status.idle": "2022-12-08T08:58:09.396929Z",
     "shell.execute_reply": "2022-12-08T08:58:09.395284Z"
    },
    "papermill": {
     "duration": 0.020178,
     "end_time": "2022-12-08T08:58:09.399558",
     "exception": false,
     "start_time": "2022-12-08T08:58:09.379380",
     "status": "completed"
    },
    "tags": []
   },
   "outputs": [],
   "source": [
    "# 缺失值处理\n",
    "# train_data.Embarked[train_data.Embarked.isnull()] = train_data.Embarked.dropna().mode().values\n",
    "# train_data['Cabin'] = train_data.Cabin.fillna('NULL')\n",
    "\n",
    "# from sklearn.ensemble import RandomForestRegressor\n",
    "\n",
    "# #choose training data to predict age\n",
    "# age_df = train_data[['Age','Survived','Fare', 'Parch', 'SibSp', 'Pclass']]\n",
    "# age_df_notnull = age_df.loc[(train_data['Age'].notnull())]\n",
    "# age_df_isnull = age_df.loc[(train_data['Age'].isnull())]\n",
    "# X = age_df_notnull.values[:,1:]\n",
    "# Y = age_df_notnull.values[:,0]\n",
    "# # use RandomForestRegression to train data\n",
    "# RFR = RandomForestRegressor(n_estimators=1000, n_jobs=-1)\n",
    "# RFR.fit(X,Y)\n",
    "# predictAges = RFR.predict(age_df_isnull.values[:,1:])\n",
    "# train_data.loc[train_data['Age'].isnull(), ['Age']]= predictAges\n"
   ]
  },
  {
   "cell_type": "code",
   "execution_count": 22,
   "id": "06505c20",
   "metadata": {
    "execution": {
     "iopub.execute_input": "2022-12-08T08:58:09.421343Z",
     "iopub.status.busy": "2022-12-08T08:58:09.420392Z",
     "iopub.status.idle": "2022-12-08T08:58:09.425698Z",
     "shell.execute_reply": "2022-12-08T08:58:09.424487Z"
    },
    "papermill": {
     "duration": 0.018967,
     "end_time": "2022-12-08T08:58:09.428266",
     "exception": false,
     "start_time": "2022-12-08T08:58:09.409299",
     "status": "completed"
    },
    "tags": []
   },
   "outputs": [],
   "source": [
    "#train_data.info()"
   ]
  },
  {
   "cell_type": "code",
   "execution_count": 23,
   "id": "7282b756",
   "metadata": {
    "execution": {
     "iopub.execute_input": "2022-12-08T08:58:09.449993Z",
     "iopub.status.busy": "2022-12-08T08:58:09.449509Z",
     "iopub.status.idle": "2022-12-08T08:58:09.454376Z",
     "shell.execute_reply": "2022-12-08T08:58:09.453110Z"
    },
    "papermill": {
     "duration": 0.018968,
     "end_time": "2022-12-08T08:58:09.456884",
     "exception": false,
     "start_time": "2022-12-08T08:58:09.437916",
     "status": "completed"
    },
    "tags": []
   },
   "outputs": [],
   "source": [
    "# # 变量转换\n",
    "# train_data = train_data.join(pd.get_dummies(train_data['Embarked']))\n",
    "# train_data.drop(['Embarked'], axis=1,inplace=True)"
   ]
  },
  {
   "cell_type": "code",
   "execution_count": 24,
   "id": "3f9c9862",
   "metadata": {
    "execution": {
     "iopub.execute_input": "2022-12-08T08:58:09.478575Z",
     "iopub.status.busy": "2022-12-08T08:58:09.478073Z",
     "iopub.status.idle": "2022-12-08T08:58:09.482910Z",
     "shell.execute_reply": "2022-12-08T08:58:09.481599Z"
    },
    "papermill": {
     "duration": 0.018778,
     "end_time": "2022-12-08T08:58:09.485398",
     "exception": false,
     "start_time": "2022-12-08T08:58:09.466620",
     "status": "completed"
    },
    "tags": []
   },
   "outputs": [],
   "source": [
    "# train_data = train_data.join(pd.get_dummies(train_data['Sex']))\n",
    "# train_data.drop(['Sex'], axis=1,inplace=True)"
   ]
  },
  {
   "cell_type": "code",
   "execution_count": 25,
   "id": "c9c8bd9b",
   "metadata": {
    "execution": {
     "iopub.execute_input": "2022-12-08T08:58:09.507557Z",
     "iopub.status.busy": "2022-12-08T08:58:09.506683Z",
     "iopub.status.idle": "2022-12-08T08:58:09.511352Z",
     "shell.execute_reply": "2022-12-08T08:58:09.510437Z"
    },
    "papermill": {
     "duration": 0.018389,
     "end_time": "2022-12-08T08:58:09.513625",
     "exception": false,
     "start_time": "2022-12-08T08:58:09.495236",
     "status": "completed"
    },
    "tags": []
   },
   "outputs": [],
   "source": [
    "# train_data"
   ]
  },
  {
   "cell_type": "code",
   "execution_count": 26,
   "id": "d361b42c",
   "metadata": {
    "execution": {
     "iopub.execute_input": "2022-12-08T08:58:09.535399Z",
     "iopub.status.busy": "2022-12-08T08:58:09.534558Z",
     "iopub.status.idle": "2022-12-08T08:58:09.538813Z",
     "shell.execute_reply": "2022-12-08T08:58:09.538072Z"
    },
    "papermill": {
     "duration": 0.017531,
     "end_time": "2022-12-08T08:58:09.540836",
     "exception": false,
     "start_time": "2022-12-08T08:58:09.523305",
     "status": "completed"
    },
    "tags": []
   },
   "outputs": [],
   "source": [
    "# train_corr  = train_data.corr()\n",
    "# train_corr\n",
    "# a = plt.subplots(figsize=(15,9))#调整画布大小\n",
    "# a = sns.heatmap(train_corr , vmin=-1, vmax=1 , annot=True , square=True)#画热力图"
   ]
  }
 ],
 "metadata": {
  "kernelspec": {
   "display_name": "Python 3",
   "language": "python",
   "name": "python3"
  },
  "language_info": {
   "codemirror_mode": {
    "name": "ipython",
    "version": 3
   },
   "file_extension": ".py",
   "mimetype": "text/x-python",
   "name": "python",
   "nbconvert_exporter": "python",
   "pygments_lexer": "ipython3",
   "version": "3.7.12"
  },
  "papermill": {
   "default_parameters": {},
   "duration": 14.677312,
   "end_time": "2022-12-08T08:58:10.574662",
   "environment_variables": {},
   "exception": null,
   "input_path": "__notebook__.ipynb",
   "output_path": "__notebook__.ipynb",
   "parameters": {},
   "start_time": "2022-12-08T08:57:55.897350",
   "version": "2.3.4"
  }
 },
 "nbformat": 4,
 "nbformat_minor": 5
}
